{
 "cells": [
  {
   "cell_type": "markdown",
   "id": "888305d9",
   "metadata": {},
   "source": [
    "## Python Program to Add Two Numbers"
   ]
  },
  {
   "cell_type": "code",
   "execution_count": 4,
   "id": "acf41ead",
   "metadata": {},
   "outputs": [
    {
     "name": "stdout",
     "output_type": "stream",
     "text": [
      "Sum of 4 and 7 is 11\n"
     ]
    }
   ],
   "source": [
    "num1=4\n",
    "num2=7\n",
    "res=num1+num2\n",
    "print(f\"Sum of {num1} and {num2} is {res}\")"
   ]
  },
  {
   "cell_type": "markdown",
   "id": "dd12083e",
   "metadata": {},
   "source": [
    "## Adding two numbers with user input"
   ]
  },
  {
   "cell_type": "code",
   "execution_count": 8,
   "id": "2229a824",
   "metadata": {},
   "outputs": [
    {
     "name": "stdout",
     "output_type": "stream",
     "text": [
      "Number 1 : 4\n",
      "Number 2 : 5\n",
      "Sum of 4 and 5 is 9\n"
     ]
    }
   ],
   "source": [
    "num1=int(input(\"Number 1 : \"))\n",
    "num2=int(input(\"Number 2 : \"))\n",
    "res=num1+num2\n",
    "print(f\"Sum of {num1} and {num2} is {res}\")"
   ]
  },
  {
   "cell_type": "markdown",
   "id": "883bc994",
   "metadata": {},
   "source": [
    "## Adding two number using lambda function"
   ]
  },
  {
   "cell_type": "code",
   "execution_count": null,
   "id": "3183e9fd",
   "metadata": {},
   "outputs": [],
   "source": []
  }
 ],
 "metadata": {
  "kernelspec": {
   "display_name": "Python 3 (ipykernel)",
   "language": "python",
   "name": "python3"
  },
  "language_info": {
   "codemirror_mode": {
    "name": "ipython",
    "version": 3
   },
   "file_extension": ".py",
   "mimetype": "text/x-python",
   "name": "python",
   "nbconvert_exporter": "python",
   "pygments_lexer": "ipython3",
   "version": "3.10.9"
  }
 },
 "nbformat": 4,
 "nbformat_minor": 5
}
