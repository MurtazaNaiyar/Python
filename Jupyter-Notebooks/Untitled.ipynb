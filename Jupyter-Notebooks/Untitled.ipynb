{
 "cells": [
  {
   "cell_type": "code",
   "execution_count": 1,
   "id": "6b2e2fa2",
   "metadata": {},
   "outputs": [
    {
     "name": "stdout",
     "output_type": "stream",
     "text": [
      "5\n",
      "(6, 7)\n",
      "{'a': 7, 'b': 8}\n"
     ]
    }
   ],
   "source": [
    "def bar(x, *y, **z):\n",
    "    print(x)\n",
    "    print(y)\n",
    "    print(z)\n",
    "bar(5,6,7,a=7,b=8)"
   ]
  },
  {
   "cell_type": "code",
   "execution_count": 7,
   "id": "b842fac8",
   "metadata": {},
   "outputs": [
    {
     "name": "stdout",
     "output_type": "stream",
     "text": [
      "car bus 3 3\n"
     ]
    }
   ],
   "source": [
    "class vehicles:\n",
    "    count=0\n",
    "    def __init__(self,value):\n",
    "        self.value=value\n",
    "        vehicles.count +=1\n",
    "    def getval(self):\n",
    "        return self.value\n",
    "    def getcount(self):\n",
    "        return vehicles.count\n",
    "    counter=classmethod(getcount)\n",
    "type1 = vehicles('car')\n",
    "type2=vehicles('bus')\n",
    "type3=vehicles('bike')\n",
    "print(type1.getval(),type2.getval(),vehicles.counter(),type2.getcount())"
   ]
  },
  {
   "cell_type": "code",
   "execution_count": 10,
   "id": "e22c1407",
   "metadata": {},
   "outputs": [
    {
     "name": "stdout",
     "output_type": "stream",
     "text": [
      "100\n",
      "201\n",
      "67.0\n"
     ]
    },
    {
     "data": {
      "text/plain": [
       "67.0"
      ]
     },
     "execution_count": 10,
     "metadata": {},
     "output_type": "execute_result"
    }
   ],
   "source": [
    "def test(x):\n",
    "    print(x)\n",
    "    if x% 3==0 : return text(x/3)\n",
    "    if x%2 == 1 : return x\n",
    "    return test(2*x+1)\n",
    "test(100)"
   ]
  },
  {
   "cell_type": "code",
   "execution_count": 13,
   "id": "5f172371",
   "metadata": {},
   "outputs": [
    {
     "name": "stdout",
     "output_type": "stream",
     "text": [
      "5\n"
     ]
    }
   ],
   "source": [
    "x=1\n",
    "y=0\n",
    "z=0\n",
    "result=2\n",
    "try:\n",
    "    z=z+1\n",
    "    result=x/y\n",
    "    z=z+1\n",
    "except ZeroDivisionError:\n",
    "    z=z+result\n",
    "else:\n",
    "    z=z+1\n",
    "finally:\n",
    "    z=z+1\n",
    "z=z+1\n",
    "print(z)"
   ]
  },
  {
   "cell_type": "code",
   "execution_count": 28,
   "id": "08ac2e61",
   "metadata": {},
   "outputs": [
    {
     "ename": "AttributeError",
     "evalue": "'_io.TextIOWrapper' object has no attribute 'appendline'",
     "output_type": "error",
     "traceback": [
      "\u001b[0;31m---------------------------------------------------------------------------\u001b[0m",
      "\u001b[0;31mAttributeError\u001b[0m                            Traceback (most recent call last)",
      "\u001b[0;32m/var/folders/0j/wzb72np956s3kckc3gj02wfc0000gn/T/ipykernel_13967/1998902767.py\u001b[0m in \u001b[0;36m<module>\u001b[0;34m\u001b[0m\n\u001b[1;32m      1\u001b[0m \u001b[0;32mwith\u001b[0m \u001b[0mopen\u001b[0m\u001b[0;34m(\u001b[0m\u001b[0;34m\"abc.text\"\u001b[0m\u001b[0;34m)\u001b[0m \u001b[0;32mas\u001b[0m \u001b[0mf\u001b[0m\u001b[0;34m:\u001b[0m\u001b[0;34m\u001b[0m\u001b[0;34m\u001b[0m\u001b[0m\n\u001b[0;32m----> 2\u001b[0;31m     \u001b[0mf\u001b[0m\u001b[0;34m.\u001b[0m\u001b[0mappendline\u001b[0m\u001b[0;34m(\u001b[0m\u001b[0;34m\"abcdef\"\u001b[0m\u001b[0;34m)\u001b[0m\u001b[0;34m\u001b[0m\u001b[0;34m\u001b[0m\u001b[0m\n\u001b[0m",
      "\u001b[0;31mAttributeError\u001b[0m: '_io.TextIOWrapper' object has no attribute 'appendline'"
     ]
    }
   ],
   "source": [
    "with open(\"abc.text\") as f:\n",
    "    f.appendline(\"abcdef\")"
   ]
  },
  {
   "cell_type": "code",
   "execution_count": null,
   "id": "11b0a3d1",
   "metadata": {},
   "outputs": [],
   "source": []
  },
  {
   "cell_type": "code",
   "execution_count": null,
   "id": "f28bf09a",
   "metadata": {},
   "outputs": [],
   "source": []
  }
 ],
 "metadata": {
  "kernelspec": {
   "display_name": "Python 3 (ipykernel)",
   "language": "python",
   "name": "python3"
  },
  "language_info": {
   "codemirror_mode": {
    "name": "ipython",
    "version": 3
   },
   "file_extension": ".py",
   "mimetype": "text/x-python",
   "name": "python",
   "nbconvert_exporter": "python",
   "pygments_lexer": "ipython3",
   "version": "3.9.7"
  }
 },
 "nbformat": 4,
 "nbformat_minor": 5
}
